{
 "cells": [
  {
   "cell_type": "code",
   "execution_count": 2,
   "metadata": {
    "collapsed": false
   },
   "outputs": [],
   "source": [
    "import numpy as np\n",
    "import pandas as pd\n",
    "import statsmodels.formula.api as smf\n",
    "import statsmodels.stats.multicomp as multi "
   ]
  },
  {
   "cell_type": "code",
   "execution_count": 9,
   "metadata": {
    "collapsed": false
   },
   "outputs": [],
   "source": [
    "data = pd.read_csv('./data/nesarc_pds.csv', low_memory=False)"
   ]
  },
  {
   "cell_type": "code",
   "execution_count": 16,
   "metadata": {
    "collapsed": true
   },
   "outputs": [],
   "source": [
    "# convert into numeric types\n",
    "data['S3AQ3B1'] = data['S3AQ3B1'].convert_objects(convert_numeric=True)\n",
    "data['S3AQ3C1'] = data['S3AQ3C1'].convert_objects(convert_numeric=True)\n",
    "data['CHECK321'] = data['CHECK321'].convert_objects(convert_numeric=True)"
   ]
  },
  {
   "cell_type": "code",
   "execution_count": 17,
   "metadata": {
    "collapsed": true
   },
   "outputs": [],
   "source": [
    "#subset data to young adults age 18 to 25 who have smoked in the past 12 months\n",
    "sub1=data[(data['AGE']>=18) & (data['AGE']<=25) & (data['CHECK321']==1)]"
   ]
  },
  {
   "cell_type": "code",
   "execution_count": 18,
   "metadata": {
    "collapsed": true
   },
   "outputs": [],
   "source": [
    "#SETTING MISSING DATA\n",
    "sub1['S3AQ3B1']=sub1['S3AQ3B1'].replace(9, numpy.nan)\n",
    "sub1['S3AQ3C1']=sub1['S3AQ3C1'].replace(99, numpy.nan)"
   ]
  },
  {
   "cell_type": "code",
   "execution_count": 19,
   "metadata": {
    "collapsed": true
   },
   "outputs": [],
   "source": [
    "#recoding number of days smoked in the past month\n",
    "recode1 = {1: 30, 2: 22, 3: 14, 4: 5, 5: 2.5, 6: 1}\n",
    "sub1['USFREQMO']= sub1['S3AQ3B1'].map(recode1)"
   ]
  },
  {
   "cell_type": "code",
   "execution_count": 20,
   "metadata": {
    "collapsed": true
   },
   "outputs": [],
   "source": [
    "#converting new variable USFREQMMO to numeric\n",
    "sub1['USFREQMO']= sub1['USFREQMO'].convert_objects(convert_numeric=True)"
   ]
  },
  {
   "cell_type": "code",
   "execution_count": 21,
   "metadata": {
    "collapsed": true
   },
   "outputs": [],
   "source": [
    "# Creating a secondary variable multiplying the days smoked/month and the number of cig/per day\n",
    "sub1['NUMCIGMO_EST']=sub1['USFREQMO'] * sub1['S3AQ3C1']"
   ]
  },
  {
   "cell_type": "code",
   "execution_count": 22,
   "metadata": {
    "collapsed": false
   },
   "outputs": [
    {
     "name": "stdout",
     "output_type": "stream",
     "text": [
      "NUMCIGMO_EST\n",
      "1.0        29\n",
      "2.0        14\n",
      "2.5        11\n",
      "3.0        12\n",
      "4.0         2\n",
      "5.0        34\n",
      "6.0         1\n",
      "7.5        12\n",
      "8.0         1\n",
      "10.0       38\n",
      "12.5        9\n",
      "14.0        3\n",
      "15.0       14\n",
      "17.5        1\n",
      "20.0       13\n",
      "22.0        4\n",
      "24.0        1\n",
      "25.0       14\n",
      "28.0       17\n",
      "30.0       25\n",
      "35.0        2\n",
      "42.0       19\n",
      "44.0        9\n",
      "50.0        7\n",
      "56.0       15\n",
      "60.0       28\n",
      "66.0       14\n",
      "70.0       22\n",
      "84.0        3\n",
      "88.0        6\n",
      "         ... \n",
      "140.0      10\n",
      "150.0     108\n",
      "154.0       3\n",
      "176.0       3\n",
      "180.0      47\n",
      "210.0      39\n",
      "220.0      12\n",
      "240.0      36\n",
      "270.0       6\n",
      "280.0       1\n",
      "300.0     350\n",
      "330.0       4\n",
      "360.0      25\n",
      "390.0       7\n",
      "420.0       2\n",
      "450.0      97\n",
      "480.0       5\n",
      "510.0       2\n",
      "540.0       3\n",
      "570.0       1\n",
      "600.0     357\n",
      "750.0      13\n",
      "810.0       1\n",
      "840.0       1\n",
      "900.0      38\n",
      "1050.0      1\n",
      "1200.0     29\n",
      "1800.0      2\n",
      "2400.0      1\n",
      "2940.0      1\n",
      "dtype: int64\n"
     ]
    }
   ],
   "source": [
    "sub1['NUMCIGMO_EST']= sub1['NUMCIGMO_EST'].convert_objects(convert_numeric=True)\n",
    "ct1 = sub1.groupby('NUMCIGMO_EST').size()\n",
    "print (ct1)"
   ]
  },
  {
   "cell_type": "code",
   "execution_count": 23,
   "metadata": {
    "collapsed": false
   },
   "outputs": [
    {
     "name": "stdout",
     "output_type": "stream",
     "text": [
      "                            OLS Regression Results                            \n",
      "==============================================================================\n",
      "Dep. Variable:           NUMCIGMO_EST   R-squared:                       0.002\n",
      "Model:                            OLS   Adj. R-squared:                  0.002\n",
      "Method:                 Least Squares   F-statistic:                     3.550\n",
      "Date:                Sat, 12 Nov 2016   Prob (F-statistic):             0.0597\n",
      "Time:                        13:39:19   Log-Likelihood:                -11934.\n",
      "No. Observations:                1697   AIC:                         2.387e+04\n",
      "Df Residuals:                    1695   BIC:                         2.388e+04\n",
      "Df Model:                           1                                         \n",
      "Covariance Type:            nonrobust                                         \n",
      "========================================================================================\n",
      "                           coef    std err          t      P>|t|      [95.0% Conf. Int.]\n",
      "----------------------------------------------------------------------------------------\n",
      "Intercept              312.8380      7.747     40.381      0.000       297.643   328.033\n",
      "C(MAJORDEPLIFE)[T.1]    28.5370     15.146      1.884      0.060        -1.169    58.243\n",
      "==============================================================================\n",
      "Omnibus:                      673.875   Durbin-Watson:                   1.982\n",
      "Prob(Omnibus):                  0.000   Jarque-Bera (JB):             5043.141\n",
      "Skew:                           1.672   Prob(JB):                         0.00\n",
      "Kurtosis:                      10.755   Cond. No.                         2.46\n",
      "==============================================================================\n",
      "\n",
      "Warnings:\n",
      "[1] Standard Errors assume that the covariance matrix of the errors is correctly specified.\n"
     ]
    }
   ],
   "source": [
    "# using ols function for calculating the F-statistic and associated p value\n",
    "model1 = smf.ols(formula='NUMCIGMO_EST ~ C(MAJORDEPLIFE)', data=sub1)\n",
    "results1 = model1.fit()\n",
    "print (results1.summary())"
   ]
  },
  {
   "cell_type": "code",
   "execution_count": 24,
   "metadata": {
    "collapsed": false
   },
   "outputs": [
    {
     "name": "stdout",
     "output_type": "stream",
     "text": [
      "means for numcigmo_est by major depression status\n",
      "              NUMCIGMO_EST\n",
      "MAJORDEPLIFE              \n",
      "0               312.837989\n",
      "1               341.375000\n"
     ]
    }
   ],
   "source": [
    "sub2 = sub1[['NUMCIGMO_EST', 'MAJORDEPLIFE']].dropna()\n",
    "print ('means for numcigmo_est by major depression status')\n",
    "m1= sub2.groupby('MAJORDEPLIFE').mean()\n",
    "print (m1)"
   ]
  },
  {
   "cell_type": "code",
   "execution_count": 25,
   "metadata": {
    "collapsed": false
   },
   "outputs": [
    {
     "name": "stdout",
     "output_type": "stream",
     "text": [
      "standard deviations for numcigmo_est by major depression status\n",
      "              NUMCIGMO_EST\n",
      "MAJORDEPLIFE              \n",
      "0               269.002344\n",
      "1               288.495118\n"
     ]
    }
   ],
   "source": [
    "print ('standard deviations for numcigmo_est by major depression status')\n",
    "sd1 = sub2.groupby('MAJORDEPLIFE').std()\n",
    "print (sd1)"
   ]
  },
  {
   "cell_type": "code",
   "execution_count": 26,
   "metadata": {
    "collapsed": false
   },
   "outputs": [
    {
     "name": "stdout",
     "output_type": "stream",
     "text": [
      "                            OLS Regression Results                            \n",
      "==============================================================================\n",
      "Dep. Variable:           NUMCIGMO_EST   R-squared:                       0.055\n",
      "Model:                            OLS   Adj. R-squared:                  0.052\n",
      "Method:                 Least Squares   F-statistic:                     24.40\n",
      "Date:                Sat, 12 Nov 2016   Prob (F-statistic):           1.18e-19\n",
      "Time:                        13:39:57   Log-Likelihood:                -11888.\n",
      "No. Observations:                1697   AIC:                         2.379e+04\n",
      "Df Residuals:                    1692   BIC:                         2.381e+04\n",
      "Df Model:                           4                                         \n",
      "Covariance Type:            nonrobust                                         \n",
      "=====================================================================================\n",
      "                        coef    std err          t      P>|t|      [95.0% Conf. Int.]\n",
      "-------------------------------------------------------------------------------------\n",
      "Intercept           368.7865      8.229     44.814      0.000       352.646   384.927\n",
      "C(ETHRACE2A)[T.2]  -109.5127     20.189     -5.424      0.000      -149.111   -69.914\n",
      "C(ETHRACE2A)[T.3]   -57.7984     42.038     -1.375      0.169      -140.250    24.653\n",
      "C(ETHRACE2A)[T.4]  -124.5279     36.033     -3.456      0.001      -195.201   -53.854\n",
      "C(ETHRACE2A)[T.5]  -149.0283     16.795     -8.873      0.000      -181.969  -116.087\n",
      "==============================================================================\n",
      "Omnibus:                      712.397   Durbin-Watson:                   1.994\n",
      "Prob(Omnibus):                  0.000   Jarque-Bera (JB):             6548.614\n",
      "Skew:                           1.717   Prob(JB):                         0.00\n",
      "Kurtosis:                      11.990   Cond. No.                         6.72\n",
      "==============================================================================\n",
      "\n",
      "Warnings:\n",
      "[1] Standard Errors assume that the covariance matrix of the errors is correctly specified.\n"
     ]
    }
   ],
   "source": [
    "#i will call it sub3\n",
    "sub3 = sub1[['NUMCIGMO_EST', 'ETHRACE2A']].dropna()\n",
    "\n",
    "model2 = smf.ols(formula='NUMCIGMO_EST ~ C(ETHRACE2A)', data=sub3).fit()\n",
    "print (model2.summary())"
   ]
  },
  {
   "cell_type": "code",
   "execution_count": 27,
   "metadata": {
    "collapsed": false
   },
   "outputs": [
    {
     "name": "stdout",
     "output_type": "stream",
     "text": [
      "means for numcigmo_est by major depression status\n",
      "           NUMCIGMO_EST\n",
      "ETHRACE2A              \n",
      "1            368.786528\n",
      "2            259.273810\n",
      "3            310.988095\n",
      "4            244.258621\n",
      "5            219.758258\n"
     ]
    }
   ],
   "source": [
    "print ('means for numcigmo_est by major depression status')\n",
    "m2= sub3.groupby('ETHRACE2A').mean()\n",
    "print (m2)"
   ]
  },
  {
   "cell_type": "code",
   "execution_count": 28,
   "metadata": {
    "collapsed": false
   },
   "outputs": [
    {
     "name": "stdout",
     "output_type": "stream",
     "text": [
      "standard deviations for numcigmo_est by major depression status\n",
      "           NUMCIGMO_EST\n",
      "ETHRACE2A              \n",
      "1            281.430730\n",
      "2            278.677392\n",
      "3            260.116964\n",
      "4            195.076441\n",
      "5            220.859365\n"
     ]
    }
   ],
   "source": [
    "print ('standard deviations for numcigmo_est by major depression status')\n",
    "sd2 = sub3.groupby('ETHRACE2A').std()\n",
    "print (sd2)"
   ]
  },
  {
   "cell_type": "code",
   "execution_count": 29,
   "metadata": {
    "collapsed": false
   },
   "outputs": [
    {
     "name": "stdout",
     "output_type": "stream",
     "text": [
      "Multiple Comparison of Means - Tukey HSD,FWER=0.05\n",
      "==================================================\n",
      "group1 group2  meandiff   lower     upper   reject\n",
      "--------------------------------------------------\n",
      "  1      2    -109.5127 -164.6441  -54.3814  True \n",
      "  1      3     -57.7984 -172.5914  56.9945  False \n",
      "  1      4    -124.5279 -222.9229  -26.1329  True \n",
      "  1      5    -149.0283  -194.89  -103.1665  True \n",
      "  2      3     51.7143   -71.6021  175.0307 False \n",
      "  2      4     -15.0152  -123.233  93.2026  False \n",
      "  2      5     -39.5156 -103.8025  24.7714  False \n",
      "  3      4     -66.7295 -214.5437  81.0848  False \n",
      "  3      5     -91.2298 -210.6902  28.2305  False \n",
      "  4      5     -24.5004 -128.3027   79.302  False \n",
      "--------------------------------------------------\n"
     ]
    }
   ],
   "source": [
    "mc1 = multi.MultiComparison(sub3['NUMCIGMO_EST'], sub3['ETHRACE2A'])\n",
    "res1 = mc1.tukeyhsd()\n",
    "print(res1.summary())"
   ]
  },
  {
   "cell_type": "code",
   "execution_count": null,
   "metadata": {
    "collapsed": true
   },
   "outputs": [],
   "source": []
  }
 ],
 "metadata": {
  "kernelspec": {
   "display_name": "Python 2",
   "language": "python",
   "name": "python2"
  },
  "language_info": {
   "codemirror_mode": {
    "name": "ipython",
    "version": 2
   },
   "file_extension": ".py",
   "mimetype": "text/x-python",
   "name": "python",
   "nbconvert_exporter": "python",
   "pygments_lexer": "ipython2",
   "version": "2.7.10"
  },
  "widgets": {
   "state": {},
   "version": "1.1.2"
  }
 },
 "nbformat": 4,
 "nbformat_minor": 0
}
